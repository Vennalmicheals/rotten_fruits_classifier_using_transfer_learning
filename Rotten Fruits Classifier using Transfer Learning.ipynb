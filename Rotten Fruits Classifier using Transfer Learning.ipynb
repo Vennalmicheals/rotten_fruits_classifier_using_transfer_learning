{
 "cells": [
  {
   "cell_type": "code",
   "execution_count": 23,
   "id": "9f661a5c",
   "metadata": {},
   "outputs": [],
   "source": [
    "import tensorflow as tf\n",
    "from tensorflow.keras.models import Sequential\n",
    "from tensorflow.keras.layers import Dense, Flatten, Conv2D, MaxPooling2D\n",
    "from tensorflow.keras.preprocessing.image import ImageDataGenerator\n"
   ]
  },
  {
   "cell_type": "code",
   "execution_count": 24,
   "id": "5f31012c",
   "metadata": {},
   "outputs": [],
   "source": [
    "train_path = \"./data/train/\"\n",
    "test_path = \"./data/valid/\""
   ]
  },
  {
   "cell_type": "code",
   "execution_count": 25,
   "id": "bd8a99f7",
   "metadata": {},
   "outputs": [
    {
     "name": "stdout",
     "output_type": "stream",
     "text": [
      "Found 10901 images belonging to 6 classes.\n"
     ]
    }
   ],
   "source": [
    "BATCH_SIZE = 10\n",
    "\n",
    "train_batches = ImageDataGenerator(\n",
    "    preprocessing_function=tf.keras.applications.vgg16.preprocess_input,\n",
    "    rescale=1/255.,\n",
    "    horizontal_flip=True,\n",
    "    vertical_flip=True\n",
    "\n",
    ").flow_from_directory(\n",
    "    directory=train_path,\n",
    "    target_size=(20, 20),\n",
    "    classes=['freshapples', 'freshbanana', 'freshoranges', 'rottenapples', 'rottenbanana','rottenoranges'],\n",
    "    batch_size=BATCH_SIZE,\n",
    "    class_mode='categorical',\n",
    "    color_mode='rgb'\n",
    ")"
   ]
  },
  {
   "cell_type": "code",
   "execution_count": 26,
   "id": "ecc4d649",
   "metadata": {},
   "outputs": [
    {
     "name": "stdout",
     "output_type": "stream",
     "text": [
      "Found 2698 images belonging to 6 classes.\n"
     ]
    }
   ],
   "source": [
    "test_batches = ImageDataGenerator(\n",
    "    preprocessing_function=tf.keras.applications.vgg16.preprocess_input, rescale=1/255.\n",
    ").flow_from_directory(\n",
    "    directory=test_path,\n",
    "    target_size=(20, 20),\n",
    "    classes=['freshapples', 'freshbanana', 'freshoranges', 'rottenapples', 'rottenbanana','rottenoranges'],\n",
    "    batch_size=BATCH_SIZE,\n",
    "    class_mode='categorical',\n",
    "    color_mode='rgb',\n",
    "    shuffle=False\n",
    ")\n"
   ]
  },
  {
   "cell_type": "code",
   "execution_count": 27,
   "id": "9834f95f",
   "metadata": {},
   "outputs": [],
   "source": [
    "model = Sequential()"
   ]
  },
  {
   "cell_type": "code",
   "execution_count": 28,
   "id": "c963cd30",
   "metadata": {},
   "outputs": [
    {
     "name": "stdout",
     "output_type": "stream",
     "text": [
      "Epoch 1/17\n",
      "1091/1091 [==============================] - 29s 26ms/step - loss: 0.6042 - accuracy: 0.7716\n",
      "Epoch 2/17\n",
      "1091/1091 [==============================] - 28s 25ms/step - loss: 0.3229 - accuracy: 0.8837\n",
      "Epoch 3/17\n",
      "1091/1091 [==============================] - 28s 26ms/step - loss: 0.2609 - accuracy: 0.9039\n",
      "Epoch 4/17\n",
      "1091/1091 [==============================] - 28s 25ms/step - loss: 0.2131 - accuracy: 0.9240\n",
      "Epoch 5/17\n",
      "1091/1091 [==============================] - 28s 26ms/step - loss: 0.1893 - accuracy: 0.9317\n",
      "Epoch 6/17\n",
      "1091/1091 [==============================] - 28s 26ms/step - loss: 0.1539 - accuracy: 0.9429\n",
      "Epoch 7/17\n",
      "1091/1091 [==============================] - 28s 26ms/step - loss: 0.1499 - accuracy: 0.9468\n",
      "Epoch 8/17\n",
      "1091/1091 [==============================] - 28s 26ms/step - loss: 0.1205 - accuracy: 0.9569\n",
      "Epoch 9/17\n",
      "1091/1091 [==============================] - 28s 26ms/step - loss: 0.1122 - accuracy: 0.9596\n",
      "Epoch 10/17\n",
      "1091/1091 [==============================] - 28s 26ms/step - loss: 0.1014 - accuracy: 0.9615\n",
      "Epoch 11/17\n",
      "1091/1091 [==============================] - 28s 26ms/step - loss: 0.0950 - accuracy: 0.9646\n",
      "Epoch 12/17\n",
      "1091/1091 [==============================] - 28s 26ms/step - loss: 0.0869 - accuracy: 0.9687\n",
      "Epoch 13/17\n",
      "1091/1091 [==============================] - 28s 26ms/step - loss: 0.0824 - accuracy: 0.9720\n",
      "Epoch 14/17\n",
      "1091/1091 [==============================] - 28s 26ms/step - loss: 0.0721 - accuracy: 0.9750\n",
      "Epoch 15/17\n",
      "1091/1091 [==============================] - 30s 28ms/step - loss: 0.0721 - accuracy: 0.9743\n",
      "Epoch 16/17\n",
      "1091/1091 [==============================] - 29s 27ms/step - loss: 0.0686 - accuracy: 0.9766\n",
      "Epoch 17/17\n",
      "1091/1091 [==============================] - 30s 27ms/step - loss: 0.0624 - accuracy: 0.9780\n"
     ]
    },
    {
     "data": {
      "text/plain": [
       "<keras.callbacks.History at 0x1e74f66bc70>"
      ]
     },
     "execution_count": 28,
     "metadata": {},
     "output_type": "execute_result"
    }
   ],
   "source": [
    "model.add(Conv2D(32, (3, 3), activation=('relu'), input_shape=(20, 20, 3)))\n",
    "model.add(MaxPooling2D((2, 2)))\n",
    "\n",
    "model.add(Conv2D(64,(3,3), activation=('relu')))\n",
    "model.add(MaxPooling2D(2,2))\n",
    "\n",
    "model.add(Flatten())\n",
    "model.add(Dense(128, activation=('relu')))\n",
    "model.add(Dense(128, activation=('relu')))\n",
    "\n",
    "model.add(Dense(6, activation=('softmax')))\n",
    "\n",
    "model.compile(optimizer='adam', loss='categorical_crossentropy', metrics=['accuracy'])\n",
    "model.fit(train_batches, epochs=17)"
   ]
  },
  {
   "cell_type": "code",
   "execution_count": 29,
   "id": "d55d1e23",
   "metadata": {},
   "outputs": [],
   "source": [
    "import matplotlib.pyplot as plt\n",
    "import matplotlib.image as mpimg\n",
    "from tensorflow.keras.preprocessing import image as image_utils\n",
    "from tensorflow.keras.applications.imagenet_utils import preprocess_input\n",
    "import numpy as np\n",
    "\n",
    "classes=['freshapples', 'freshbanana', 'freshoranges', 'rottenapples', 'rottenbanana','rottenoranges']\n",
    "\n",
    "\n",
    "def show_image(image_path):\n",
    "    image = mpimg.imread(image_path)\n",
    "    plt.imshow(image)\n",
    "\n",
    "def make_predictions(image_path):\n",
    "    show_image(image_path)\n",
    "    image = image_utils.load_img(image_path, target_size=(20, 20))\n",
    "    image = image_utils.img_to_array(image)\n",
    "    image = image.reshape(1,20,20,3)\n",
    "    image = preprocess_input(image)\n",
    "    preds = model.predict(image)\n",
    "    return preds"
   ]
  },
  {
   "cell_type": "code",
   "execution_count": 30,
   "id": "ff441fb2",
   "metadata": {},
   "outputs": [
    {
     "name": "stdout",
     "output_type": "stream",
     "text": [
      "1/1 [==============================] - 0s 68ms/step\n",
      "freshbanana\n"
     ]
    }
   ],
   "source": [
    "prediction= make_predictions('./data/pic2.png')\n",
    "MaxPosition=np.argmax(prediction)  \n",
    "prediction_label=classes[MaxPosition]\n",
    "print(prediction_label) "
   ]
  },
  {
   "cell_type": "code",
   "execution_count": 33,
   "id": "c32142e8",
   "metadata": {},
   "outputs": [
    {
     "name": "stdout",
     "output_type": "stream",
     "text": [
      "1/1 [==============================] - 0s 13ms/step\n",
      "rottenoranges\n"
     ]
    }
   ],
   "source": [
    "prediction= make_predictions('./data/pic.png')\n",
    "MaxPosition=np.argmax(prediction)  \n",
    "prediction_label=classes[MaxPosition]\n",
    "print(prediction_label) "
   ]
  },
  {
   "cell_type": "code",
   "execution_count": 34,
   "id": "357ba36f",
   "metadata": {},
   "outputs": [
    {
     "name": "stdout",
     "output_type": "stream",
     "text": [
      "1/1 [==============================] - 0s 14ms/step\n",
      "rottenoranges\n"
     ]
    }
   ],
   "source": [
    "prediction= make_predictions('./data/pic3rotor.png')\n",
    "MaxPosition=np.argmax(prediction)  \n",
    "prediction_label=classes[MaxPosition]\n",
    "print(prediction_label) "
   ]
  },
  {
   "cell_type": "code",
   "execution_count": null,
   "id": "2da926c1",
   "metadata": {},
   "outputs": [],
   "source": []
  }
 ],
 "metadata": {
  "kernelspec": {
   "display_name": "Python 3",
   "language": "python",
   "name": "python3"
  },
  "language_info": {
   "codemirror_mode": {
    "name": "ipython",
    "version": 3
   },
   "file_extension": ".py",
   "mimetype": "text/x-python",
   "name": "python",
   "nbconvert_exporter": "python",
   "pygments_lexer": "ipython3",
   "version": "3.8.11"
  }
 },
 "nbformat": 4,
 "nbformat_minor": 5
}
